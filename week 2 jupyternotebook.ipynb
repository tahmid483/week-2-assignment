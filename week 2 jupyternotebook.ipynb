{
 "cells": [
  {
   "cell_type": "code",
   "execution_count": 1,
   "metadata": {},
   "outputs": [
    {
     "name": "stdout",
     "output_type": "stream",
     "text": [
      "Squared Set: {1, 4, 9, 16, 25}\n",
      "Even Squares Set: {16, 4}\n",
      "Sorted Squares: [1, 4, 9, 16, 25]\n"
     ]
    }
   ],
   "source": [
    "nums = [1, 2, 2, 3, 4, 4, 5]\n",
    "squared = {x**2 for x in nums}\n",
    "print(\"Squared Set:\", squared)\n",
    "\n",
    "even_squares = {x**2 for x in nums if x % 2 == 0}\n",
    "print(\"Even Squares Set:\", even_squares)\n",
    "\n",
    "sorted_squares = sorted({x**2 for x in nums})\n",
    "print(\"Sorted Squares:\", sorted_squares)"
   ]
  }
 ],
 "metadata": {
  "kernelspec": {
   "display_name": "Python 3",
   "language": "python",
   "name": "python3"
  },
  "language_info": {
   "codemirror_mode": {
    "name": "ipython",
    "version": 3
   },
   "file_extension": ".py",
   "mimetype": "text/x-python",
   "name": "python",
   "nbconvert_exporter": "python",
   "pygments_lexer": "ipython3",
   "version": "3.13.2"
  }
 },
 "nbformat": 4,
 "nbformat_minor": 2
}
